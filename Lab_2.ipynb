{
  "nbformat": 4,
  "nbformat_minor": 0,
  "metadata": {
    "kernelspec": {
      "name": "python3",
      "display_name": "Python 3"
    },
    "language_info": {
      "codemirror_mode": {
        "name": "ipython",
        "version": 2
      },
      "file_extension": ".py",
      "mimetype": "text/x-python",
      "name": "python",
      "nbconvert_exporter": "python",
      "pygments_lexer": "ipython2",
      "version": "2.7.6"
    },
    "pycharm": {
      "stem_cell": {
        "cell_type": "raw",
        "source": [],
        "metadata": {
          "collapsed": false
        }
      }
    },
    "colab": {
      "name": "Lab_2.ipynb",
      "provenance": [],
      "collapsed_sections": [],
      "toc_visible": true,
      "include_colab_link": true
    },
    "accelerator": "GPU"
  },
  "cells": [
    {
      "cell_type": "markdown",
      "metadata": {
        "id": "view-in-github",
        "colab_type": "text"
      },
      "source": [
        "<a href=\"https://colab.research.google.com/github/fitocuan/CE888_2020/blob/master/Lab_2.ipynb\" target=\"_parent\"><img src=\"https://colab.research.google.com/assets/colab-badge.svg\" alt=\"Open In Colab\"/></a>"
      ]
    },
    {
      "cell_type": "markdown",
      "metadata": {
        "id": "nCi_99yMYIb1",
        "colab_type": "text"
      },
      "source": [
        "In this notebook you'll create your own bootstrap function following the bootstrap algorithm (check the lecture notes!)"
      ]
    },
    {
      "cell_type": "code",
      "metadata": {
        "pycharm": {
          "name": "#%%# Imports\n"
        },
        "id": "LY5zujI2YC37",
        "colab_type": "code",
        "colab": {}
      },
      "source": [
        "import matplotlib\n",
        "import pandas as pd\n",
        "import seaborn as sns\n",
        "import numpy as np\n",
        "\n"
      ],
      "execution_count": 0,
      "outputs": []
    },
    {
      "cell_type": "code",
      "metadata": {
        "id": "Eqkwj4SMY38t",
        "colab_type": "code",
        "colab": {
          "base_uri": "https://localhost:8080/",
          "height": 35
        },
        "outputId": "0afa7682-282a-42b6-ce78-a7cc306a2d80"
      },
      "source": [
        "# Load the data\n",
        "df = pd.read_csv('https://raw.githubusercontent.com/albanda/CE888/master/lab2%20-%20bootstrap/customers.csv')\n",
        "data = df.values.T[1]\n",
        "\n",
        "print(data)"
      ],
      "execution_count": 3,
      "outputs": [
        {
          "output_type": "stream",
          "text": [
            "[ 2.  8. 20. 13.  5.  9. 10.  8. 22. 10.  2.  4.  7.  9.]\n"
          ],
          "name": "stdout"
        }
      ]
    },
    {
      "cell_type": "code",
      "metadata": {
        "pycharm": {
          "name": "#%%\n"
        },
        "id": "Gxvc_bScYC4H",
        "colab_type": "code",
        "colab": {}
      },
      "source": [
        "# Checking the notes from the lecture, create here your own bootstrap function:\n",
        "# 1. Create an array of samples of shape (n_iterations, sample_size)\n",
        "# 2. Calculate and save the mean of the array (this is \"data_mean\" that is returned by the function)\n",
        "# 3. In each iteration:\n",
        "# 3.1 Get the data corresponding to that iteration (new_samples[iteration, :])\n",
        "# 3.2 Calculate the mean of the iteration data and store it\n",
        "# (At this point you should have an array of n_iterations values)\n",
        "# 4. Calculate the lower and upper bounds for a 95% CI (hint: check the percentile function on Numpy)\n",
        "# 5. Return data_mean, and the lower and upper bounds of your interval\n",
        "def boostrap_mean(sample, sample_size, n_iterations):\n",
        "\n",
        "\tx = np.zeros((n_iterations,sample_size))\n",
        "\t\n",
        "\tfor i in range(0,n_iterations):\n",
        "\t\tx[i,:] = np.array([np.random.choice(sample,sample_size,replace = True )])\n",
        "\n",
        "\tmean = np.mean(x ,axis = 1)\n",
        " \n",
        "\tsort = np.sort(mean)\n",
        "\tlower = np.percentile(sort,2.5)\t\n",
        "\tupper = np.percentile(sort,97.5)\n",
        "\tdata_mean = np.mean(mean)\n",
        "\n",
        "\n",
        "\t# <---INSERT YOUR CODE HERE--->\n",
        "\treturn data_mean, lower, upper\n",
        "\n",
        "m,l,u = boostrap_mean(data, 10, 10)\n",
        "\n"
      ],
      "execution_count": 0,
      "outputs": []
    },
    {
      "cell_type": "code",
      "metadata": {
        "pycharm": {
          "name": "#%%\n"
        },
        "id": "AN7sEOcMYC4P",
        "colab_type": "code",
        "colab": {
          "base_uri": "https://localhost:8080/",
          "height": 387
        },
        "outputId": "bb975c73-8ce2-43e4-cff0-8bd0ce157e3c"
      },
      "source": [
        "# Call your bootstrap function and plot the results\n",
        "\n",
        "boots = []\n",
        "for i in range(100, 100000, 1000):\n",
        "    boot = boostrap_mean(data, data.shape[0], i)\n",
        "    boots.append([i, boot[0], \"mean\"])\n",
        "    boots.append([i, boot[1], \"lower\"])\n",
        "    boots.append([i, boot[2], \"upper\"])\n",
        "\n",
        "df_boot = pd.DataFrame(boots, columns=['Boostrap Iterations', 'Mean', \"Value\"])\n",
        "sns_plot = sns.lmplot(df_boot.columns[0], df_boot.columns[1], data=df_boot, fit_reg=False, hue=\"Value\")\n",
        "\n",
        "sns_plot.axes[0, 0].set_ylim(0,)\n",
        "sns_plot.axes[0, 0].set_xlim(0, 100000)\n",
        "\n",
        "#sns_plot.savefig(\"bootstrap_confidence.png\", bbox_inches='tight')\n",
        "#sns_plot.savefig(\"bootstrap_confidence.pdf\", bbox_inches='tight')\n",
        "\n"
      ],
      "execution_count": 43,
      "outputs": [
        {
          "output_type": "execute_result",
          "data": {
            "text/plain": [
              "(0, 100000)"
            ]
          },
          "metadata": {
            "tags": []
          },
          "execution_count": 43
        },
        {
          "output_type": "display_data",
          "data": {
            "image/png": "[encoded data removed]",
            "text/plain": [
              "<Figure size 425.125x360 with 1 Axes>"
            ]
          },
          "metadata": {
            "tags": []
          }
        }
      ]
    },
    {
      "cell_type": "markdown",
      "metadata": {
        "collapsed": false,
        "id": "MjtP4e2_YC4V",
        "colab_type": "text"
      },
      "source": [
        "\n",
        "Now, modify the bootstrap function so that you can pass your desired confidence interval as a parameter.\n",
        "\n"
      ]
    },
    {
      "cell_type": "code",
      "metadata": {
        "id": "3K9j0FuGYhHs",
        "colab_type": "code",
        "colab": {}
      },
      "source": [
        "def boostrap_mean_ci(sample, sample_size, n_iterations, ci):\n",
        "\t# <---INSERT YOUR CODE HERE--->\t\n",
        "\tx = np.zeros((n_iterations,sample_size))\n",
        "\t\n",
        "\tfor i in range(0,n_iterations):\n",
        "\t\tx[i,:] = np.array([np.random.choice(sample,sample_size,replace = True )])\n",
        "\n",
        "\n",
        "\tmean = np.mean(x ,axis = 1)\n",
        " \n",
        "\tsort = np.sort(mean)\n",
        "\tlower = np.percentile(sort,100-ci)\t\n",
        "\tupper = np.percentile(sort,ci)\n",
        "\tdata_mean = np.mean(mean)\n",
        " \n",
        "\treturn data_mean, lower, upper"
      ],
      "execution_count": 0,
      "outputs": []
    },
    {
      "cell_type": "code",
      "metadata": {
        "id": "uDnjq08GYl-C",
        "colab_type": "code",
        "colab": {
          "base_uri": "https://localhost:8080/",
          "height": 369
        },
        "outputId": "0441ebe5-b6f7-4b5c-c537-b0cf2beec995"
      },
      "source": [
        "\n",
        "boots = []\n",
        "for i in range(100, 100000, 1000):\n",
        "    boot = boostrap_mean_ci(data, data.shape[0], i, 80)\n",
        "    boots.append([i, boot[0], \"mean\"])\n",
        "    boots.append([i, boot[1], \"lower\"])\n",
        "    boots.append([i, boot[2], \"upper\"])\n",
        "\n",
        "df_boot = pd.DataFrame(boots, columns=['Boostrap Iterations', 'Mean', \"Value\"])\n",
        "sns_plot = sns.lmplot(df_boot.columns[0], df_boot.columns[1], data=df_boot, fit_reg=False, hue=\"Value\")\n",
        "\n",
        "sns_plot.axes[0, 0].set_ylim(0,)\n",
        "sns_plot.axes[0, 0].set_xlim(0, 100000)\n",
        "\n",
        "sns_plot.savefig(\"bootstrap_confidence_80.png\", bbox_inches='tight')\n",
        "sns_plot.savefig(\"bootstrap_confidence_80.pdf\", bbox_inches='tight')\n"
      ],
      "execution_count": 50,
      "outputs": [
        {
          "output_type": "display_data",
          "data": {
            "image/png": "[encoded data removed]",
            "text/plain": [
              "<Figure size 425.125x360 with 1 Axes>"
            ]
          },
          "metadata": {
            "tags": []
          }
        }
      ]
    },
    {
      "cell_type": "markdown",
      "metadata": {
        "id": "qjNgXW6wdd7r",
        "colab_type": "text"
      },
      "source": [
        "# Vehicles dataset\n",
        "\n",
        "Now let's work on a different dataset. Load the vehicles.csv file and check the Moodle page for instructions on how to proceed\n"
      ]
    },
    {
      "cell_type": "code",
      "metadata": {
        "id": "avWv4ipFdpka",
        "colab_type": "code",
        "colab": {
          "base_uri": "https://localhost:8080/",
          "height": 430
        },
        "outputId": "e496f532-f1e3-431b-ab94-342836c326a3"
      },
      "source": [
        "# Load and visualise the vehicles dataset\n",
        "# <---INSERT YOUR CODE HERE--->\n",
        "# Note: you can add more cells as needed to organise your code and your plots\n",
        "\n",
        "df_2 = pd.read_csv(\"/content/vehicles.csv\")\n",
        "\n",
        "curr = df[df.columns[0]].values \n",
        "new = df[df.columns[1]].values \n",
        "\n",
        "print(df_2.info())\n",
        "\n",
        "sns.kdeplot(curr,label = \"Current\")\n",
        "sns.kdeplot(new,label = \"New\")\n",
        "\n"
      ],
      "execution_count": 95,
      "outputs": [
        {
          "output_type": "stream",
          "text": [
            "<class 'pandas.core.frame.DataFrame'>\n",
            "RangeIndex: 249 entries, 0 to 248\n",
            "Data columns (total 2 columns):\n",
            "Current fleet    249 non-null int64\n",
            "New Fleet        79 non-null float64\n",
            "dtypes: float64(1), int64(1)\n",
            "memory usage: 4.0 KB\n",
            "None\n"
          ],
          "name": "stdout"
        },
        {
          "output_type": "execute_result",
          "data": {
            "text/plain": [
              "<matplotlib.axes._subplots.AxesSubplot at 0x7fd1ea78f320>"
            ]
          },
          "metadata": {
            "tags": []
          },
          "execution_count": 95
        },
        {
          "output_type": "display_data",
          "data": {
            "image/png": "[encoded data removed]",
            "text/plain": [
              "<Figure size 432x288 with 1 Axes>"
            ]
          },
          "metadata": {
            "tags": []
          }
        }
      ]
    },
    {
      "cell_type": "code",
      "metadata": {
        "id": "BAKyj983dwSM",
        "colab_type": "code",
        "colab": {
          "base_uri": "https://localhost:8080/",
          "height": 54
        },
        "outputId": "88208356-c0d5-41ce-bff6-099754692adf"
      },
      "source": [
        "# Compare the two fleets.\n",
        "# You can create a permutation test function to do this. Check the lecture notes!\n",
        "\n",
        "#curr = np.array([0, 0, 0, 0, 0, 0, 1, 0, 0, 1, 0]) \n",
        "#new = np.array([1, 0, 0, 1, 1, 1, 0, 0, 0, 1, 0]) \n",
        "concat = np.concatenate((curr,new))\n",
        "\n",
        "print(\"Tobs: \", (np.mean(new)- np.mean(curr)))\n",
        "\n",
        "tobs = np.mean(new) - np.mean(curr)\n",
        "c = 0\n",
        "\n",
        "for i in range(20000):\n",
        "  perm = np.random.permutation(concat)\n",
        "  pnew = perm[:int(len(new))]\n",
        "  pcurr = perm[int(len(new)):]\n",
        "  pt = np.mean(pnew) - np.mean(pcurr)\n",
        "  if pt > tobs:\n",
        "    c += 1\n",
        "\n",
        "print(\"p value: \", c/20000)\n",
        "\n"
      ],
      "execution_count": 92,
      "outputs": [
        {
          "output_type": "stream",
          "text": [
            "Tobs:  1.7142857142857135\n",
            "p value:  0.1855\n"
          ],
          "name": "stdout"
        }
      ]
    },
    {
      "cell_type": "code",
      "metadata": {
        "id": "if-RY4aTd4CZ",
        "colab_type": "code",
        "colab": {}
      },
      "source": [
        ""
      ],
      "execution_count": 0,
      "outputs": []
    }
  ]
}