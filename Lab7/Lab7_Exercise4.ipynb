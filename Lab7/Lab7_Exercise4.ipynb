{
  "nbformat": 4,
  "nbformat_minor": 0,
  "metadata": {
    "colab": {
      "name": "Lab7_Exercise4.ipynb",
      "provenance": [],
      "collapsed_sections": [],
      "authorship_tag": "ABX9TyNGzrIp7UtQb1L65rIbXTsj",
      "include_colab_link": true
    },
    "kernelspec": {
      "name": "python3",
      "display_name": "Python 3"
    },
    "accelerator": "GPU"
  },
  "cells": [
    {
      "cell_type": "markdown",
      "metadata": {
        "id": "view-in-github",
        "colab_type": "text"
      },
      "source": [
        "<a href=\"https://colab.research.google.com/github/fitocuan/CE888_2020/blob/master/Lab7_Exercise4.ipynb\" target=\"_parent\"><img src=\"https://colab.research.google.com/assets/colab-badge.svg\" alt=\"Open In Colab\"/></a>"
      ]
    },
    {
      "cell_type": "code",
      "metadata": {
        "id": "sQozZoNfjH6R",
        "colab_type": "code",
        "colab": {
          "base_uri": "https://localhost:8080/",
          "height": 72
        },
        "outputId": "9cd689f1-ef3c-4ad4-9392-d8fe082dc1ea"
      },
      "source": [
        "import os\n",
        "os.environ['KAGGLE_USERNAME'] = \"rodolfo123\" # username from the json file\n",
        "os.environ['KAGGLE_KEY'] = \"cf9e3a73727f55098bcb611ec972f756\" # key from the json file\n",
        "!kaggle datasets download -d alessiocorrado99/animals10 # api copied from kaggle"
      ],
      "execution_count": 1,
      "outputs": [
        {
          "output_type": "stream",
          "text": [
            "Downloading animals10.zip to /content\n",
            " 96% 564M/586M [00:07<00:00, 72.1MB/s]\n",
            "100% 586M/586M [00:07<00:00, 84.0MB/s]\n"
          ],
          "name": "stdout"
        }
      ]
    },
    {
      "cell_type": "code",
      "metadata": {
        "id": "lLySed9gjU5L",
        "colab_type": "code",
        "colab": {
          "base_uri": "https://localhost:8080/",
          "height": 35
        },
        "outputId": "8e88cd62-a2a9-459b-a21a-00d5e4433098"
      },
      "source": [
        "from zipfile import ZipFile\n",
        "\n",
        "file_name = \"/content/animals10.zip\"\n",
        "\n",
        "with ZipFile(file_name, 'r') as zip:\n",
        "  zip.extractall()\n",
        "  print('done')"
      ],
      "execution_count": 2,
      "outputs": [
        {
          "output_type": "stream",
          "text": [
            "done\n"
          ],
          "name": "stdout"
        }
      ]
    },
    {
      "cell_type": "code",
      "metadata": {
        "id": "7UKdDo3Mjjqr",
        "colab_type": "code",
        "colab": {}
      },
      "source": [
        "base_dir = '/content/animals10_small'\n",
        "os.mkdir(base_dir)"
      ],
      "execution_count": 0,
      "outputs": []
    },
    {
      "cell_type": "code",
      "metadata": {
        "id": "lZ5o33IQj0Db",
        "colab_type": "code",
        "colab": {}
      },
      "source": [
        "train_dir = os.path.join(base_dir, 'train')\n",
        "os.mkdir(train_dir)\n",
        "\n",
        "validation_dir = os.path.join(base_dir, 'validation')\n",
        "os.mkdir(validation_dir)\n",
        "\n",
        "test_dir = os.path.join(base_dir, 'test')\n",
        "os.mkdir(test_dir)\n",
        "\n"
      ],
      "execution_count": 0,
      "outputs": []
    },
    {
      "cell_type": "code",
      "metadata": {
        "id": "IHMNhrDPk4Pe",
        "colab_type": "code",
        "colab": {}
      },
      "source": [
        "dir_list = [train_dir,validation_dir,test_dir]\n",
        "\n",
        "\n",
        "for i in dir_list:\n",
        "  for item in os.listdir('/content/raw-img'):  \n",
        "    os.mkdir(os.path.join(i, item))\n",
        "\n"
      ],
      "execution_count": 0,
      "outputs": []
    },
    {
      "cell_type": "code",
      "metadata": {
        "id": "B4SCK9rDlZ7u",
        "colab_type": "code",
        "colab": {
          "base_uri": "https://localhost:8080/",
          "height": 384
        },
        "outputId": "06ac4ef2-2083-4a1c-af10-4d734242b491"
      },
      "source": [
        "import shutil\n",
        "\n",
        "\n",
        "for cl in os.listdir('/content/raw-img'):\n",
        "  print(cl)\n",
        "  print(len(os.listdir('/content/raw-img/'+cl)))\n",
        "  size = len(os.listdir('/content/raw-img/'+cl))\n",
        "\n",
        "  for i in range(int(size*0.7)):\n",
        "    fname = os.listdir('/content/raw-img/'+cl)[i]\n",
        "    src = os.path.join('/content/raw-img/'+cl, fname)\n",
        "    dst = os.path.join('/content/animals10_small/train/'+cl, fname)\n",
        "    shutil.copyfile(src, dst)\n",
        "\n",
        "  for j in range(int(size*0.7),int(size*0.7)+int(size*0.15)):\n",
        "    fname = os.listdir('/content/raw-img/'+cl)[j]\n",
        "    src = os.path.join('/content/raw-img/'+cl, fname)\n",
        "    dst = os.path.join('/content/animals10_small/test/'+cl, fname)\n",
        "    shutil.copyfile(src, dst)\n",
        "\n",
        "  for k in range(int(size*0.7)+int(size*0.15),size):\n",
        "    fname = os.listdir('/content/raw-img/'+cl)[k]\n",
        "    src = os.path.join('/content/raw-img/'+cl, fname)\n",
        "    dst = os.path.join('/content/animals10_small/validation/'+cl, fname)\n",
        "    shutil.copyfile(src, dst)\n"
      ],
      "execution_count": 6,
      "outputs": [
        {
          "output_type": "stream",
          "text": [
            "cavallo\n",
            "2623\n",
            "pecora\n",
            "1820\n",
            "elefante\n",
            "1446\n",
            "cane\n",
            "4863\n",
            "farfalla\n",
            "2112\n",
            "mucca\n",
            "1866\n",
            "gatto\n",
            "1668\n",
            "gallina\n",
            "3098\n",
            "scoiattolo\n",
            "1862\n",
            "ragno\n",
            "4821\n"
          ],
          "name": "stdout"
        }
      ]
    },
    {
      "cell_type": "code",
      "metadata": {
        "id": "IOHh1T3no6i_",
        "colab_type": "code",
        "colab": {
          "base_uri": "https://localhost:8080/",
          "height": 72
        },
        "outputId": "15266bd5-f68c-40c0-add1-743b659dee95"
      },
      "source": [
        "print(len(os.listdir('/content/animals10_small/validation/gallina')))\n",
        "print(len(os.listdir('/content/animals10_small/test/gallina')))\n",
        "print(len(os.listdir('/content/animals10_small/train/gallina')))"
      ],
      "execution_count": 7,
      "outputs": [
        {
          "output_type": "stream",
          "text": [
            "466\n",
            "464\n",
            "2168\n"
          ],
          "name": "stdout"
        }
      ]
    },
    {
      "cell_type": "code",
      "metadata": {
        "id": "4E84IYIuqJCe",
        "colab_type": "code",
        "colab": {
          "base_uri": "https://localhost:8080/",
          "height": 129
        },
        "outputId": "3c0d999f-98a3-493b-917c-70da725e9bc5"
      },
      "source": [
        "from keras import layers\n",
        "from keras import models\n",
        "\n",
        "model = models.Sequential()\n",
        "model.add(layers.Conv2D(32, (3, 3), activation='relu',\n",
        "input_shape=(150, 150, 3)))\n",
        "model.add(layers.MaxPooling2D((2, 2)))\n",
        "model.add(layers.Conv2D(64, (3, 3), activation='relu'))\n",
        "model.add(layers.MaxPooling2D((2, 2)))\n",
        "model.add(layers.Conv2D(128, (3, 3), activation='relu'))\n",
        "model.add(layers.MaxPooling2D((2, 2)))\n",
        "model.add(layers.Conv2D(128, (3, 3), activation='relu'))\n",
        "model.add(layers.MaxPooling2D((2, 2)))\n",
        "model.add(layers.Flatten())\n",
        "model.add(layers.Dropout(0.5))\n",
        "model.add(layers.Dense(512, activation='relu'))\n",
        "model.add(layers.Dense(1, activation='sigmoid'))"
      ],
      "execution_count": 12,
      "outputs": [
        {
          "output_type": "stream",
          "text": [
            "WARNING:tensorflow:From /usr/local/lib/python3.6/dist-packages/keras/backend/tensorflow_backend.py:148: The name tf.placeholder_with_default is deprecated. Please use tf.compat.v1.placeholder_with_default instead.\n",
            "\n",
            "WARNING:tensorflow:From /usr/local/lib/python3.6/dist-packages/keras/backend/tensorflow_backend.py:3733: calling dropout (from tensorflow.python.ops.nn_ops) with keep_prob is deprecated and will be removed in a future version.\n",
            "Instructions for updating:\n",
            "Please use `rate` instead of `keep_prob`. Rate should be set to `rate = 1 - keep_prob`.\n"
          ],
          "name": "stdout"
        }
      ]
    },
    {
      "cell_type": "code",
      "metadata": {
        "id": "6gvzZoEaqOM2",
        "colab_type": "code",
        "colab": {}
      },
      "source": [
        "model.compile(loss='binary_crossentropy',\n",
        "              optimizer=optimizers.RMSprop(lr=1e-4),\n",
        "              metrics=['acc'])"
      ],
      "execution_count": 0,
      "outputs": []
    },
    {
      "cell_type": "code",
      "metadata": {
        "id": "N9ygb9jbqQqD",
        "colab_type": "code",
        "colab": {
          "base_uri": "https://localhost:8080/",
          "height": 54
        },
        "outputId": "9bbc3df6-abe2-46bb-d436-57deb6a9523e"
      },
      "source": [
        "from keras.preprocessing.image import ImageDataGenerator\n",
        "\n",
        "train_datagen = ImageDataGenerator(rescale=1./255)\n",
        "test_datagen = ImageDataGenerator(rescale=1./255)\n",
        "\n",
        "train_generator = train_datagen.flow_from_directory('/content/animals10_small/train',\n",
        "                                                    target_size=(150, 150), \n",
        "                                                    batch_size=20,\n",
        "                                                    class_mode='binary')\n",
        "\n",
        "validation_generator = test_datagen.flow_from_directory('/content/animals10_small/validation',\n",
        "                                                        target_size=(150, 150),\n",
        "                                                        batch_size=20,\n",
        "                                                        class_mode='binary')"
      ],
      "execution_count": 10,
      "outputs": [
        {
          "output_type": "stream",
          "text": [
            "Found 18322 images belonging to 10 classes.\n",
            "Found 3935 images belonging to 10 classes.\n"
          ],
          "name": "stdout"
        }
      ]
    },
    {
      "cell_type": "code",
      "metadata": {
        "id": "01u79JJeqbAt",
        "colab_type": "code",
        "colab": {
          "base_uri": "https://localhost:8080/",
          "height": 1000
        },
        "outputId": "a724e57d-b5d3-4a1a-c720-a56c9882db62"
      },
      "source": [
        "history = model.fit_generator(train_generator,\n",
        "                              steps_per_epoch=100,\n",
        "                              epochs=30,\n",
        "                              validation_data=validation_generator,\n",
        "                              validation_steps=10)"
      ],
      "execution_count": 14,
      "outputs": [
        {
          "output_type": "stream",
          "text": [
            "Epoch 1/30\n",
            "100/100 [==============================] - 6s 56ms/step - loss: -48.0980 - acc: 0.0950 - val_loss: -53.8853 - val_acc: 0.1100\n",
            "Epoch 2/30\n",
            "100/100 [==============================] - 5s 52ms/step - loss: -52.3389 - acc: 0.1060 - val_loss: -53.9650 - val_acc: 0.1000\n",
            "Epoch 3/30\n",
            "100/100 [==============================] - 6s 55ms/step - loss: -53.7737 - acc: 0.0905 - val_loss: -50.0591 - val_acc: 0.0950\n",
            "Epoch 4/30\n",
            "100/100 [==============================] - 6s 55ms/step - loss: -53.9411 - acc: 0.1000 - val_loss: -46.6315 - val_acc: 0.0800\n",
            "Epoch 5/30\n",
            "100/100 [==============================] - 5s 51ms/step - loss: -51.9483 - acc: 0.0975 - val_loss: -50.2185 - val_acc: 0.1150\n",
            "Epoch 6/30\n",
            "100/100 [==============================] - 5s 47ms/step - loss: -51.8845 - acc: 0.0970 - val_loss: -48.1460 - val_acc: 0.1400\n",
            "Epoch 7/30\n",
            "100/100 [==============================] - 5s 53ms/step - loss: -51.1591 - acc: 0.1080 - val_loss: -57.7911 - val_acc: 0.0400\n",
            "Epoch 8/30\n",
            "100/100 [==============================] - 5s 48ms/step - loss: -51.4620 - acc: 0.1100 - val_loss: -52.5302 - val_acc: 0.0900\n",
            "Epoch 9/30\n",
            "100/100 [==============================] - 5s 48ms/step - loss: -52.2591 - acc: 0.0970 - val_loss: -53.0881 - val_acc: 0.0950\n",
            "Epoch 10/30\n",
            "100/100 [==============================] - 5s 53ms/step - loss: -52.1794 - acc: 0.0990 - val_loss: -55.8781 - val_acc: 0.1050\n",
            "Epoch 11/30\n",
            "100/100 [==============================] - 6s 55ms/step - loss: -50.8323 - acc: 0.1010 - val_loss: -57.1535 - val_acc: 0.1000\n",
            "Epoch 12/30\n",
            "100/100 [==============================] - 5s 48ms/step - loss: -52.7294 - acc: 0.1080 - val_loss: -48.9827 - val_acc: 0.1000\n",
            "Epoch 13/30\n",
            "100/100 [==============================] - 5s 45ms/step - loss: -54.3047 - acc: 0.0915 - val_loss: -55.1607 - val_acc: 0.1050\n",
            "Epoch 14/30\n",
            "100/100 [==============================] - 5s 45ms/step - loss: -50.8084 - acc: 0.1025 - val_loss: -48.6243 - val_acc: 0.1050\n",
            "Epoch 15/30\n",
            "100/100 [==============================] - 4s 43ms/step - loss: -52.2591 - acc: 0.1060 - val_loss: -55.9578 - val_acc: 0.1150\n",
            "Epoch 16/30\n",
            "100/100 [==============================] - 5s 51ms/step - loss: -52.7613 - acc: 0.0975 - val_loss: -49.1025 - val_acc: 0.1100\n",
            "Epoch 17/30\n",
            "100/100 [==============================] - 6s 60ms/step - loss: -51.3903 - acc: 0.0955 - val_loss: -53.4867 - val_acc: 0.0800\n",
            "Epoch 18/30\n",
            "100/100 [==============================] - 5s 54ms/step - loss: -51.2468 - acc: 0.1035 - val_loss: -56.4360 - val_acc: 0.0950\n",
            "Epoch 19/30\n",
            "100/100 [==============================] - 5s 49ms/step - loss: -54.2519 - acc: 0.0950 - val_loss: -51.0156 - val_acc: 0.0950\n",
            "Epoch 20/30\n",
            "100/100 [==============================] - 5s 55ms/step - loss: -52.8255 - acc: 0.1080 - val_loss: -45.9468 - val_acc: 0.1333\n",
            "Epoch 21/30\n",
            "100/100 [==============================] - 6s 55ms/step - loss: -53.8853 - acc: 0.0940 - val_loss: -53.0084 - val_acc: 0.0600\n",
            "Epoch 22/30\n",
            "100/100 [==============================] - 5s 47ms/step - loss: -53.3034 - acc: 0.0970 - val_loss: -51.8128 - val_acc: 0.1250\n",
            "Epoch 23/30\n",
            "100/100 [==============================] - 5s 50ms/step - loss: -50.4098 - acc: 0.1065 - val_loss: -48.7040 - val_acc: 0.0800\n",
            "Epoch 24/30\n",
            "100/100 [==============================] - 5s 50ms/step - loss: -52.4345 - acc: 0.1030 - val_loss: -53.2476 - val_acc: 0.1050\n",
            "Epoch 25/30\n",
            "100/100 [==============================] - 5s 49ms/step - loss: -49.9634 - acc: 0.1000 - val_loss: -43.7618 - val_acc: 0.1500\n",
            "Epoch 26/30\n",
            "100/100 [==============================] - 5s 54ms/step - loss: -50.9837 - acc: 0.1025 - val_loss: -52.5302 - val_acc: 0.1050\n",
            "Epoch 27/30\n",
            "100/100 [==============================] - 5s 47ms/step - loss: -51.5816 - acc: 0.0975 - val_loss: -49.6605 - val_acc: 0.1050\n",
            "Epoch 28/30\n",
            "100/100 [==============================] - 5s 51ms/step - loss: -52.4983 - acc: 0.1045 - val_loss: -49.9794 - val_acc: 0.0900\n",
            "Epoch 29/30\n",
            "100/100 [==============================] - 5s 51ms/step - loss: -52.3628 - acc: 0.0975 - val_loss: -50.9755 - val_acc: 0.0850\n",
            "Epoch 30/30\n",
            "100/100 [==============================] - 5s 46ms/step - loss: -51.3906 - acc: 0.1120 - val_loss: -53.5664 - val_acc: 0.1200\n"
          ],
          "name": "stdout"
        }
      ]
    },
    {
      "cell_type": "code",
      "metadata": {
        "id": "EyCsPnROsILi",
        "colab_type": "code",
        "colab": {
          "base_uri": "https://localhost:8080/",
          "height": 545
        },
        "outputId": "d0d97e6b-1939-4ca0-a694-4d22f7abdf57"
      },
      "source": [
        "model.save('animals.h5')\n",
        "\n",
        "import matplotlib.pyplot as plt\n",
        "\n",
        "acc = history.history['acc']\n",
        "val_acc = history.history['val_acc']\n",
        "loss = history.history['loss']\n",
        "val_loss = history.history['val_loss']\n",
        "\n",
        "epochs = range(1, len(acc) + 1)\n",
        "\n",
        "plt.plot(epochs, acc, 'bo', label='Training acc')\n",
        "plt.plot(epochs, val_acc, 'b', label='Validation acc')\n",
        "plt.title('Training and validation accuracy')\n",
        "plt.legend()\n",
        "\n",
        "plt.figure()\n",
        "\n",
        "plt.plot(epochs, loss, 'bo', label='Training loss')\n",
        "plt.plot(epochs, val_loss, 'b', label='Validation loss')\n",
        "plt.title('Training and validation loss')\n",
        "plt.legend()\n",
        "\n",
        "plt.show()"
      ],
      "execution_count": 15,
      "outputs": [
        {
          "output_type": "display_data",
          "data": {
            "image/png": "[encoded data removed]",
            "text/plain": [
              "<Figure size 432x288 with 1 Axes>"
            ]
          },
          "metadata": {
            "tags": []
          }
        },
        {
          "output_type": "display_data",
          "data": {
            "image/png": "[encoded data removed]",
            "text/plain": [
              "<Figure size 432x288 with 1 Axes>"
            ]
          },
          "metadata": {
            "tags": []
          }
        }
      ]
    }
  ]
}