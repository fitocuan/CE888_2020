{
  "nbformat": 4,
  "nbformat_minor": 0,
  "metadata": {
    "colab": {
      "name": "my_recommender.ipynb",
      "provenance": [],
      "collapsed_sections": [],
      "authorship_tag": "ABX9TyPkrBZXkwMVPFV2hHOQlb1d",
      "include_colab_link": true
    },
    "kernelspec": {
      "name": "python3",
      "display_name": "Python 3"
    },
    "accelerator": "GPU"
  },
  "cells": [
    {
      "cell_type": "markdown",
      "metadata": {
        "id": "view-in-github",
        "colab_type": "text"
      },
      "source": [
        "<a href=\"https://colab.research.google.com/github/fitocuan/CE888_2020/blob/master/my_recommender.ipynb\" target=\"_parent\"><img src=\"https://colab.research.google.com/assets/colab-badge.svg\" alt=\"Open In Colab\"/></a>"
      ]
    },
    {
      "cell_type": "code",
      "metadata": {
        "id": "do5Hlnn49YJ8",
        "colab_type": "code",
        "colab": {}
      },
      "source": [
        "import pandas as pd\n",
        "import numpy as np\n",
        "from IPython.display import Image\n",
        "np.set_printoptions(precision = 3)"
      ],
      "execution_count": 0,
      "outputs": []
    },
    {
      "cell_type": "code",
      "metadata": {
        "id": "jJ1fFf0_-iGe",
        "colab_type": "code",
        "colab": {
          "base_uri": "https://localhost:8080/",
          "height": 153
        },
        "outputId": "080ce24b-cd90-4b7d-c001-045de456ef3d"
      },
      "source": [
        "df = pd.read_csv('jester-data-1.csv')\n",
        "print(df.head())"
      ],
      "execution_count": 28,
      "outputs": [
        {
          "output_type": "stream",
          "text": [
            "    74  -7.82   8.79  -9.66  -8.16  ...  99.22  -5.63  99.23  99.24  99.25\n",
            "0  100   4.08  -0.29   6.36   4.37  ...  -2.14   3.06   0.34  -4.32   1.07\n",
            "1   49  99.00  99.00  99.00  99.00  ...  99.00  99.00  99.00  99.00  99.00\n",
            "2   48  99.00   8.35  99.00  99.00  ...  99.00  99.00  99.00  99.00  99.00\n",
            "3   91   8.50   4.61  -4.17  -5.39  ...   1.55   3.11   6.55   1.80   1.60\n",
            "4  100  -6.17  -3.54   0.44  -8.50  ...  -3.35   0.05  -9.08  -5.05  -3.45\n",
            "\n",
            "[5 rows x 101 columns]\n"
          ],
          "name": "stdout"
        }
      ]
    },
    {
      "cell_type": "code",
      "metadata": {
        "id": "m1s8Qsad_W8P",
        "colab_type": "code",
        "colab": {
          "base_uri": "https://localhost:8080/",
          "height": 136
        },
        "outputId": "aca0c222-1003-4403-da61-87a61a2c6b15"
      },
      "source": [
        "\n",
        "arr = df.drop(df.columns[0], axis=1).values\n",
        "print(arr)"
      ],
      "execution_count": 29,
      "outputs": [
        {
          "output_type": "stream",
          "text": [
            "[[ 4.08 -0.29  6.36 ...  0.34 -4.32  1.07]\n",
            " [99.   99.   99.   ... 99.   99.   99.  ]\n",
            " [99.    8.35 99.   ... 99.   99.   99.  ]\n",
            " ...\n",
            " [99.   99.   99.   ... 99.   99.   99.  ]\n",
            " [99.   99.   99.   ... 99.   99.   99.  ]\n",
            " [ 2.43  2.67 -3.98 ... 99.   99.   99.  ]]\n"
          ],
          "name": "stdout"
        }
      ]
    },
    {
      "cell_type": "code",
      "metadata": {
        "id": "kjo7UTtVFXTG",
        "colab_type": "code",
        "colab": {}
      },
      "source": [
        "def replace(orig, percentage=0.1):\n",
        "  \"\"\"\n",
        "  Replaces 'percentage'% of the original values in 'orig' with 99's\n",
        "  :param orig: original data array\n",
        "  :param percentage: percentage of values to replace (0<percentage<1)\n",
        "  \"\"\"\n",
        "  new_data = orig.copy()\n",
        "  rated = np.where(arr!=99)\n",
        "  n_rated = len(rated[0])\n",
        "  idx = np.random.choice(n_rated, size=int(percentage*n_rated), replace=False)\n",
        "  new_data[rated[0][idx], rated[1][idx]] = 99\n",
        "  return new_data, (rated[0][idx], rated[1][idx])"
      ],
      "execution_count": 0,
      "outputs": []
    },
    {
      "cell_type": "code",
      "metadata": {
        "id": "p8_1T8bCFcdl",
        "colab_type": "code",
        "colab": {}
      },
      "source": [
        "\n",
        "arr_new, idx = replace(arr, 0.1)"
      ],
      "execution_count": 0,
      "outputs": []
    },
    {
      "cell_type": "code",
      "metadata": {
        "id": "B2VVEdFX_ao3",
        "colab_type": "code",
        "colab": {
          "base_uri": "https://localhost:8080/",
          "height": 34
        },
        "outputId": "eabdc8fd-aa95-42c4-e7ee-3d58f89419f3"
      },
      "source": [
        "\n",
        "rated = np.where(arr!=99)\n",
        "print(len(rated[0]), rated[1].shape)"
      ],
      "execution_count": 32,
      "outputs": [
        {
          "output_type": "stream",
          "text": [
            "1810381 (1810381,)\n"
          ],
          "name": "stdout"
        }
      ]
    },
    {
      "cell_type": "code",
      "metadata": {
        "id": "JssuDzczATyM",
        "colab_type": "code",
        "colab": {}
      },
      "source": [
        "n_latent_factors = 2\n",
        "\n",
        "user_ratings = arr\n",
        "# Initialise as random values\n",
        "latent_user_preferences = np.random.random((user_ratings.shape[0], n_latent_factors))\n",
        "latent_item_features = np.random.random((user_ratings.shape[1], n_latent_factors))\n",
        "\n"
      ],
      "execution_count": 0,
      "outputs": []
    },
    {
      "cell_type": "code",
      "metadata": {
        "id": "aH1CKDzKDGn0",
        "colab_type": "code",
        "colab": {}
      },
      "source": [
        "\n",
        "def predict_rating(user_id, item_id):\n",
        "    \"\"\" Predict a rating given a user_id and an item_id.\n",
        "    \"\"\"\n",
        "    user_preference = latent_user_preferences[user_id]\n",
        "    item_preference = latent_item_features[item_id]\n",
        "    return user_preference.dot(item_preference)\n",
        "\n",
        "def train(user_id, item_id, rating, alpha=0.0001):\n",
        "    \n",
        "    #print item_id\n",
        "    prediction_rating = predict_rating(user_id, item_id)\n",
        "    err =  prediction_rating - rating\n",
        "    #print err\n",
        "    user_pref_values = latent_user_preferences[user_id][:]\n",
        "    latent_user_preferences[user_id] -= alpha * err * latent_item_features[item_id]\n",
        "    latent_item_features[item_id] -= alpha * err * user_pref_values\n",
        "    return err\n",
        "    \n",
        "\n",
        "def sgd(iterations=100):\n",
        "    \"\"\" Iterate over all users and all items and train for \n",
        "        a certain number of iterations\n",
        "    \"\"\"\n",
        "    for iteration in range(iterations):\n",
        "        error = []\n",
        "        for user_id in range(latent_user_preferences.shape[0]):\n",
        "            for item_id in range(latent_item_features.shape[0]):\n",
        "                rating = user_ratings[user_id][item_id]\n",
        "                if rating != 99:\n",
        "                    err = train(user_id, item_id, rating)\n",
        "                    error.append(err)\n",
        "        mse = (np.array(error) ** 2).mean()   \n",
        "        if (iteration % 10) == 0:\n",
        "            print(mse)\n"
      ],
      "execution_count": 0,
      "outputs": []
    },
    {
      "cell_type": "code",
      "metadata": {
        "id": "hzoswb9CDcyP",
        "colab_type": "code",
        "colab": {
          "base_uri": "https://localhost:8080/",
          "height": 51
        },
        "outputId": "166ac50e-0973-4bbc-890e-13109212e179"
      },
      "source": [
        "sgd() "
      ],
      "execution_count": 0,
      "outputs": [
        {
          "output_type": "stream",
          "text": [
            "nan\n",
            "nan\n"
          ],
          "name": "stdout"
        }
      ]
    },
    {
      "cell_type": "code",
      "metadata": {
        "id": "k4oInvqPLxP6",
        "colab_type": "code",
        "colab": {}
      },
      "source": [
        "user_ratings = new_arr\n",
        "# Initialise as random values\n",
        "latent_user_preferences_test = np.random.random((user_ratings.shape[0], n_latent_factors))\n",
        "latent_item_features_test = np.random.random((user_ratings.shape[1], n_latent_factors))\n",
        "\n",
        "values = [zip(user_ratings[i], predictions[i]) for i in range(predictions.shape[0])]\n",
        "comparison_data = pd.DataFrame(values)\n",
        "comparison_data.columns = data.columns"
      ],
      "execution_count": 0,
      "outputs": []
    }
  ]
}