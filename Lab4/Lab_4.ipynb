{
  "nbformat": 4,
  "nbformat_minor": 0,
  "metadata": {
    "colab": {
      "name": "Lab_4.ipynb",
      "provenance": [],
      "collapsed_sections": [],
      "authorship_tag": "ABX9TyMEDa5bQdLe+oae+GWVwFaf",
      "include_colab_link": true
    },
    "kernelspec": {
      "name": "python2",
      "display_name": "Python 2"
    }
  },
  "cells": [
    {
      "cell_type": "markdown",
      "metadata": {
        "id": "view-in-github",
        "colab_type": "text"
      },
      "source": [
        "<a href=\"https://colab.research.google.com/github/fitocuan/CE888_2020/blob/master/Lab_4.ipynb\" target=\"_parent\"><img src=\"https://colab.research.google.com/assets/colab-badge.svg\" alt=\"Open In Colab\"/></a>"
      ]
    },
    {
      "cell_type": "code",
      "metadata": {
        "id": "t-nFl23zh7Wr",
        "colab_type": "code",
        "colab": {}
      },
      "source": [
        "\n",
        "%matplotlib inline\n",
        "import matplotlib\n",
        "import numpy as np\n",
        "import matplotlib.pyplot as plt\n",
        "import pandas as pd\n",
        "import seaborn as sns\n",
        "import itertools\n",
        "\n",
        "from sklearn.tree import DecisionTreeRegressor\n",
        "from sklearn.ensemble import RandomForestClassifier, ExtraTreesClassifier\n",
        "from sklearn.model_selection import cross_val_score\n",
        "from sklearn.metrics import mean_squared_error as mse\n",
        "from sklearn.metrics import mean_absolute_error as mae\n",
        "from sklearn.metrics import accuracy_score as acc\n",
        "from sklearn.metrics import make_scorer, confusion_matrix\n",
        "from sklearn.dummy import DummyRegressor, DummyClassifier\n",
        "from sklearn.preprocessing import LabelEncoder"
      ],
      "execution_count": 0,
      "outputs": []
    },
    {
      "cell_type": "code",
      "metadata": {
        "id": "0YD3BiFgjM6D",
        "colab_type": "code",
        "colab": {
          "base_uri": "https://localhost:8080/",
          "height": 164
        },
        "outputId": "6d9ea294-ba9e-4ad6-d1a4-164917bf3ff6"
      },
      "source": [
        "df = pd.read_csv(\"/bank-additional-full.csv\", delimiter=';')\n",
        "\n",
        "print(df.head())"
      ],
      "execution_count": 5,
      "outputs": [
        {
          "output_type": "stream",
          "text": [
            "   age        job  marital  ... euribor3m nr.employed   y\n",
            "0   56  housemaid  married  ...     4.857      5191.0  no\n",
            "1   57   services  married  ...     4.857      5191.0  no\n",
            "2   37   services  married  ...     4.857      5191.0  no\n",
            "3   40     admin.  married  ...     4.857      5191.0  no\n",
            "4   56   services  married  ...     4.857      5191.0  no\n",
            "\n",
            "[5 rows x 21 columns]\n"
          ],
          "name": "stdout"
        }
      ]
    },
    {
      "cell_type": "code",
      "metadata": {
        "id": "tzFXYxE4kFmz",
        "colab_type": "code",
        "colab": {
          "base_uri": "https://localhost:8080/",
          "height": 311
        },
        "outputId": "56f0d610-0627-438d-84af-6ba40aedf797"
      },
      "source": [
        "df_dummies = pd.get_dummies(df)\n",
        "df_dummies.drop(['y_no', 'duration'],axis=1, inplace=True)\n",
        "\n",
        "\n"
      ],
      "execution_count": 11,
      "outputs": [
        {
          "output_type": "stream",
          "text": [
            "   age  duration  campaign  ...  poutcome_success  y_no  y_yes\n",
            "0   56       261         1  ...                 0     1      0\n",
            "1   57       149         1  ...                 0     1      0\n",
            "2   37       226         1  ...                 0     1      0\n",
            "3   40       151         1  ...                 0     1      0\n",
            "4   56       307         1  ...                 0     1      0\n",
            "\n",
            "[5 rows x 65 columns]\n",
            "   age  campaign  pdays  ...  poutcome_nonexistent  poutcome_success  y_yes\n",
            "0   56         1    999  ...                     1                 0      0\n",
            "1   57         1    999  ...                     1                 0      0\n",
            "2   37         1    999  ...                     1                 0      0\n",
            "3   40         1    999  ...                     1                 0      0\n",
            "4   56         1    999  ...                     1                 0      0\n",
            "\n",
            "[5 rows x 63 columns]\n"
          ],
          "name": "stdout"
        }
      ]
    },
    {
      "cell_type": "code",
      "metadata": {
        "id": "IKGYS26EluMu",
        "colab_type": "code",
        "colab": {
          "base_uri": "https://localhost:8080/",
          "height": 301
        },
        "outputId": "8abaa794-8ae3-4057-ae49-0d7dd88ee882"
      },
      "source": [
        "sns.distplot(df_dummies[\"y_yes\"])"
      ],
      "execution_count": 12,
      "outputs": [
        {
          "output_type": "execute_result",
          "data": {
            "text/plain": [
              "<matplotlib.axes._subplots.AxesSubplot at 0x7eff12737f90>"
            ]
          },
          "metadata": {
            "tags": []
          },
          "execution_count": 12
        },
        {
          "output_type": "display_data",
          "data": {
            "image/png": "[encoded data removed]",
            "text/plain": [
              "<Figure size 432x288 with 1 Axes>"
            ]
          },
          "metadata": {
            "tags": []
          }
        }
      ]
    },
    {
      "cell_type": "code",
      "metadata": {
        "id": "Nmex2oS5l5nV",
        "colab_type": "code",
        "colab": {
          "base_uri": "https://localhost:8080/",
          "height": 35
        },
        "outputId": "9e78e22d-1b24-4a66-ffa8-917423ffc613"
      },
      "source": [
        "clf = ExtraTreesClassifier(n_estimators=100, max_depth=4)\n",
        "X = df_dummies.drop([\"y_yes\"],axis = 1).copy().values\n",
        "y = df_dummies[\"y_yes\"].copy().values\n",
        "\n",
        "clf.fit(X,y)\n",
        "\n",
        "scores = cross_val_score(clf, X, y, cv = 10, scoring = make_scorer(mse))\n",
        "\n",
        "print(\"MSE: %0.8f +/- %0.8f\" % (scores.mean(), scores.std()))"
      ],
      "execution_count": 20,
      "outputs": [
        {
          "output_type": "stream",
          "text": [
            "MSE: 0.15252770 +/- 0.11730649\n"
          ],
          "name": "stdout"
        }
      ]
    },
    {
      "cell_type": "code",
      "metadata": {
        "id": "su4T35m_n3nZ",
        "colab_type": "code",
        "colab": {
          "base_uri": "https://localhost:8080/",
          "height": 1000
        },
        "outputId": "d885f2ab-a291-441d-92f9-3f3616c26fbe"
      },
      "source": [
        "features = df_dummies.drop([\"y_yes\"],axis = 1).columns\n",
        "\n",
        "\n",
        "importances = clf.feature_importances_\n",
        "std = np.std([tree.feature_importances_ for tree in clf.estimators_],\n",
        "             axis=0)\n",
        "indices = np.argsort(importances)[::-1]\n",
        "print(indices)\n",
        "# Print the feature ranking\n",
        "print(\"Feature ranking:\")\n",
        "\n",
        "for f in range(X.shape[1]):\n",
        "    print(\"%d. %s (%f)\" % (f + 1, features[indices[f]],  importances[indices[f]]))\n"
      ],
      "execution_count": 22,
      "outputs": [
        {
          "output_type": "stream",
          "text": [
            "[ 2 61  4  8  7 49 50  6  5 60 43 42  3 59 52 34 53 33 45 48  0 14 10 51\n",
            " 44 17 55 46 47  1 27 23 31 57 16 22 20 56 11 58 32  9 18 39 38 54 36 25\n",
            " 30 21 15 41 40 24 12 28 37 26 29 19 13 35]\n",
            "Feature ranking:\n",
            "1. pdays (0.168312)\n",
            "2. poutcome_success (0.147991)\n",
            "3. emp.var.rate (0.142035)\n",
            "4. nr.employed (0.128020)\n",
            "5. euribor3m (0.090459)\n",
            "6. month_mar (0.039196)\n",
            "7. month_may (0.034906)\n",
            "8. cons.conf.idx (0.034118)\n",
            "9. cons.price.idx (0.032587)\n",
            "10. poutcome_nonexistent (0.031383)\n",
            "11. contact_telephone (0.025181)\n",
            "12. contact_cellular (0.018165)\n",
            "13. previous (0.016197)\n",
            "14. poutcome_failure (0.014434)\n",
            "15. month_oct (0.012216)\n",
            "16. default_unknown (0.008643)\n",
            "17. month_sep (0.008531)\n",
            "18. default_no (0.006905)\n",
            "19. month_aug (0.005517)\n",
            "20. month_jun (0.004049)\n",
            "21. age (0.004029)\n",
            "22. job_retired (0.003726)\n",
            "23. job_blue-collar (0.003585)\n",
            "24. month_nov (0.003402)\n",
            "25. month_apr (0.003281)\n",
            "26. job_student (0.002473)\n",
            "27. day_of_week_mon (0.001690)\n",
            "28. month_dec (0.001494)\n",
            "29. month_jul (0.001404)\n",
            "30. campaign (0.000850)\n",
            "31. education_basic.9y (0.000736)\n",
            "32. marital_single (0.000639)\n",
            "33. education_university.degree (0.000432)\n",
            "34. day_of_week_tue (0.000377)\n",
            "35. job_services (0.000368)\n",
            "36. marital_married (0.000319)\n",
            "37. job_unknown (0.000241)\n",
            "38. day_of_week_thu (0.000239)\n",
            "39. job_entrepreneur (0.000221)\n",
            "40. day_of_week_wed (0.000188)\n",
            "41. education_unknown (0.000187)\n",
            "42. job_admin. (0.000187)\n",
            "43. job_technician (0.000136)\n",
            "44. loan_no (0.000136)\n",
            "45. housing_yes (0.000102)\n",
            "46. day_of_week_fri (0.000076)\n",
            "47. housing_no (0.000074)\n",
            "48. education_basic.4y (0.000073)\n",
            "49. education_professional.course (0.000068)\n",
            "50. marital_divorced (0.000067)\n",
            "51. job_self-employed (0.000064)\n",
            "52. loan_yes (0.000048)\n",
            "53. loan_unknown (0.000040)\n",
            "54. marital_unknown (0.000036)\n",
            "55. job_housemaid (0.000035)\n",
            "56. education_high.school (0.000032)\n",
            "57. housing_unknown (0.000031)\n",
            "58. education_basic.6y (0.000028)\n",
            "59. education_illiterate (0.000026)\n",
            "60. job_unemployed (0.000012)\n",
            "61. job_management (0.000007)\n",
            "62. default_yes (0.000000)\n"
          ],
          "name": "stdout"
        }
      ]
    },
    {
      "cell_type": "code",
      "metadata": {
        "id": "4hjOHGpjojpB",
        "colab_type": "code",
        "colab": {
          "base_uri": "https://localhost:8080/",
          "height": 54
        },
        "outputId": "e6d0bdca-3919-48b0-9682-84338d91c474"
      },
      "source": [
        "# Compute confusion matrix\n",
        "y_pred = clf.predict(X)\n",
        "cnf_matrix = confusion_matrix(y, y_pred)\n",
        "np.set_printoptions(precision=2)\n",
        "\n",
        "print(cnf_matrix)"
      ],
      "execution_count": 24,
      "outputs": [
        {
          "output_type": "stream",
          "text": [
            "[[36285   263]\n",
            " [ 3907   733]]\n"
          ],
          "name": "stdout"
        }
      ]
    }
  ]
}